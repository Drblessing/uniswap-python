{
 "cells": [
  {
   "cell_type": "code",
   "execution_count": 18,
   "metadata": {},
   "outputs": [],
   "source": [
    "from uniswap import tokens,util\n",
    "from web3 import Web3\n",
    "tokens_arbitrum = {\n",
    "    k: Web3.toChecksumAddress(v)\n",
    "    for k, v in {\n",
    "        \"ETH\": \"0x0000000000000000000000000000000000000000\",\n",
    "        \"WETH\": \"0x82af49447d8a07e3bd95bd0d56f35241523fbab1\",\n",
    "        \"DAI\": \"0xda10009cbd5d07dd0cecc66161fc93d7c9000da1\",\n",
    "        \"USDC\": \"0xff970a61a04b1ca14834a43f5de4533ebddb5cc8\",\n",
    "        \"UNI\": \"0xfa7f8980b0f1e64a2062791cc3b0871572f1f7f0\",\n",
    "    }.items()\n",
    "}\n"
   ]
  },
  {
   "cell_type": "code",
   "execution_count": 41,
   "metadata": {},
   "outputs": [
    {
     "data": {
      "text/plain": [
       "{'constant': True,\n",
       " 'inputs': [],\n",
       " 'name': 'totalSupply',\n",
       " 'outputs': [{'name': '', 'type': 'uint256'}],\n",
       " 'payable': False,\n",
       " 'stateMutability': 'view',\n",
       " 'type': 'function'}"
      ]
     },
     "execution_count": 41,
     "metadata": {},
     "output_type": "execute_result"
    }
   ],
   "source": [
    "test = util._load_abi(\"erc20\")\n",
    "\n",
    "\n",
    "test[4]"
   ]
  }
 ],
 "metadata": {
  "kernelspec": {
   "display_name": "Python 3.10.1 ('venv': venv)",
   "language": "python",
   "name": "python3"
  },
  "language_info": {
   "codemirror_mode": {
    "name": "ipython",
    "version": 3
   },
   "file_extension": ".py",
   "mimetype": "text/x-python",
   "name": "python",
   "nbconvert_exporter": "python",
   "pygments_lexer": "ipython3",
   "version": "3.10.1"
  },
  "orig_nbformat": 4,
  "vscode": {
   "interpreter": {
    "hash": "ecdc47eb6bb6fa6d581e242ccf0de29c85039dc8e3cfd618f2dfc60f4be807a2"
   }
  }
 },
 "nbformat": 4,
 "nbformat_minor": 2
}
